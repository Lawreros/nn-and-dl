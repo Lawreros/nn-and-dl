{
 "cells": [
  {
   "cell_type": "markdown",
   "id": "228da6c0-cfb1-4172-bceb-046c6736b9b6",
   "metadata": {},
   "source": [
    "# Logistic Regression as a Neural Network"
   ]
  },
  {
   "cell_type": "markdown",
   "id": "cb39046a-a7c7-4f4a-8a6f-87b93111d190",
   "metadata": {},
   "source": [
    "for week 2"
   ]
  },
  {
   "cell_type": "markdown",
   "id": "7bde5c4c-43ef-449b-9436-8bf2da50c6e5",
   "metadata": {},
   "source": [
    "## Data"
   ]
  },
  {
   "cell_type": "code",
   "execution_count": 23,
   "id": "7670a09d-430b-4d19-82fa-ab84eb49db27",
   "metadata": {},
   "outputs": [],
   "source": [
    "from sklearn.datasets import load_digits\n",
    "\n",
    "X, y = load_digits(return_X_y=True)\n",
    "X = X.T  # because for some reason this video has the columns as observations..."
   ]
  },
  {
   "cell_type": "code",
   "execution_count": 25,
   "id": "948e252a-39e4-41ed-9f71-5742a3169d8b",
   "metadata": {},
   "outputs": [
    {
     "name": "stdout",
     "output_type": "stream",
     "text": [
      "label:  0\n"
     ]
    },
    {
     "data": {
      "image/png": "[encoded data removed]",
      "text/plain": [
       "<Figure size 432x288 with 1 Axes>"
      ]
     },
     "metadata": {
      "needs_background": "light"
     },
     "output_type": "display_data"
    }
   ],
   "source": [
    "import matplotlib.pyplot as plt\n",
    "\n",
    "plt.imshow(X[:, 0].reshape(8,8), cmap=\"Greys\")\n",
    "print(\"label: \", y[0])"
   ]
  },
  {
   "cell_type": "code",
   "execution_count": 27,
   "id": "96d32eae-2661-4e83-837f-7b84032f794a",
   "metadata": {},
   "outputs": [
    {
     "data": {
      "text/plain": [
       "(64, 1797)"
      ]
     },
     "execution_count": 27,
     "metadata": {},
     "output_type": "execute_result"
    }
   ],
   "source": [
    "X.shape  # this feels weird"
   ]
  },
  {
   "cell_type": "markdown",
   "id": "e2cf51b1-7b9e-4f76-8ee8-5c3ea1cb9cb4",
   "metadata": {},
   "source": [
    "### Setup\n",
    "we want $\\hat{y} = P(y = 1 | X)$, with $x \\in R^{n_x}, w \\in R^{n_x}, b \\in R$.  \n",
    "\n",
    "in logistic regression, $\\hat{y} = \\sigma (w^\\top x + b)$, with $\\sigma$ being the sigmoid function $\\frac{1}{1 + e^{-x}}$ which maps the real number line to {0, 1} with $lim_{x \\to -\\infty} = 0$, $\\lim_{x \\to 0} = \\frac{1}{2}$, and $\\lim_{x \\to \\infty} = 1$. Since $\\hat{y}$ is a probability, and we are trying to use our data to get clear predictions, we generally want to maximize $\\hat{y}$ to be as close as possible to 1 for each image."
   ]
  },
  {
   "cell_type": "markdown",
   "id": "3f16b5ea-ba1f-4ccf-80c7-175769bf4925",
   "metadata": {
    "tags": []
   },
   "source": [
    "## Loss function\n",
    "\n",
    "lots of ways to define, obvious one is $L(\\hat{y}, y) = 1/2 (\\hat{y} - y)^2$, but that's non-convex and so you find local minimums, so instead we use  \n",
    "\n",
    "$L(\\hat{y}, y) = -(y \\log \\hat{y} + (1 - y) \\log(1 - \\hat{y}))$"
   ]
  },
  {
   "cell_type": "markdown",
   "id": "d6405bc1-6e5d-452b-a83e-67af7c5e9595",
   "metadata": {},
   "source": [
    "## Cost Function\n",
    "\n",
    "$J(w, b) = \\sum_{i=1}^m L(\\hat{y}^{(i)}, y^{(i)})$\n",
    "\n",
    "slight abuse of notation since $\\hat{y}^{(i)} = \\hat{y}^{(i)}(w, b)$, $\\hat{y}^{(i)} \\in R$ is the function $w^\\top x_i + b$ of $w$ and $b$ (also an abuse of notation, since $J(w, b)$ is actually $J(X, w, b)$)"
   ]
  },
  {
   "cell_type": "code",
   "execution_count": 70,
   "id": "dbab1c33-4056-44da-ab8d-bf79cfe07b51",
   "metadata": {},
   "outputs": [
    {
     "name": "stdout",
     "output_type": "stream",
     "text": [
      "0.0\n",
      "0.0\n",
      "16.0\n",
      "18.0\n",
      "1.0\n",
      "1.0\n",
      "---\n",
      "0.3250829733914482\n",
      "0.3250829733914482\n",
      "0.6931471805599453\n",
      "---\n",
      "2.0828626352604234\n"
     ]
    },
    {
     "name": "stderr",
     "output_type": "stream",
     "text": [
      "/var/folders/f2/j3gn7gkj60q66ts67tfg67hw0000gn/T/ipykernel_77223/977079358.py:6: UserWarning: Labels should be binary\n",
      "  warnings.warn(\"Labels should be binary\")\n"
     ]
    }
   ],
   "source": [
    "import numpy as np\n",
    "import warnings\n",
    "\n",
    "def loss(yhat, y):\n",
    "    if y not in {0, 1}:\n",
    "        warnings.warn(\"Labels should be binary\")\n",
    "    return -1 * (y*np.log(yhat) + (1-y)*np.log(1-yhat))\n",
    "\n",
    "print(np.round(cost(.9999999, 1)))  # case where y = 1, cost(yhat, y) = -log(yhat)\n",
    "print(np.round(cost(.00000001, 0)))  # case where y = 0, cost(yhat, y) = -log(1-yhat)\n",
    "print(np.round(cost(.9999999, 0)))  # case where y = 0, cost(yhat, y) = -log(1-yhat)\n",
    "print(np.round(cost(.00000001, 1)))  # case where y = 0, cost(yhat, y) = -log(1-yhat)\n",
    "print(np.round(cost(.5, 0)))\n",
    "print(np.round(cost(.5, 1)))\n",
    "\n",
    "print(\"---\")\n",
    "\n",
    "print(loss(.1, .1))  # why aren't these 0?\n",
    "print(loss(.9, .9))  # why aren't these 0?\n",
    "print(loss(.5, .5))  # why aren't these 0?\n",
    "\n",
    "# not 0 because y = {0, 1}, can never be a non-integer, so the above inputs will never happen\n",
    "\n",
    "print(\"---\")\n",
    "print(cost(.1, .9))  # should be big"
   ]
  },
  {
   "cell_type": "markdown",
   "id": "867cf2a4-c680-4b54-8b11-d100e1403b45",
   "metadata": {},
   "source": [
    "## Gradient descent and viewing logistic regression as a NN"
   ]
  },
  {
   "cell_type": "markdown",
   "id": "7893ed82-36ca-48b7-bfdd-0b6341f85f5a",
   "metadata": {},
   "source": [
    "by convention, $\\frac{dFinalOutputVar}{dvar}$ will be shorthand to $dvar$ in code, which is the derivative of the final output variable with respect to various intermediate quantities"
   ]
  },
  {
   "cell_type": "code",
   "execution_count": null,
   "id": "4472c98a-cc41-4b86-838f-dc2c78772be9",
   "metadata": {},
   "outputs": [],
   "source": [
    "\n",
    "\n",
    "def d_dw(w, alpha):\n",
    "    # denote as dw in code\n",
    "    \"\"\"\n",
    "    alpha: learning rate\n",
    "    \"\"\"\n",
    "    return w - alpha * np.nan  # TODO: np.nan = dJ(w)/dw\n",
    "\n",
    "def d_db(b, alpha):\n",
    "    # denote as db in code\n",
    "    return b - alpha * np.nan  # TODO: np.nan = dJ(b)/db\n",
    "\n"
   ]
  }
 ],
 "metadata": {
  "kernelspec": {
   "display_name": "Python 3",
   "language": "python",
   "name": "python3"
  },
  "language_info": {
   "codemirror_mode": {
    "name": "ipython",
    "version": 3
   },
   "file_extension": ".py",
   "mimetype": "text/x-python",
   "name": "python",
   "nbconvert_exporter": "python",
   "pygments_lexer": "ipython3",
   "version": "3.8.7"
  }
 },
 "nbformat": 4,
 "nbformat_minor": 5
}
